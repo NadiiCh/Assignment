{
 "cells": [
  {
   "attachments": {},
   "cell_type": "markdown",
   "id": "f8b70892",
   "metadata": {},
   "source": [
    "# Academic Writing - Interactive Essay\n",
    "### Nadia Chwarszczyńska"
   ]
  },
  {
   "attachments": {},
   "cell_type": "markdown",
   "id": "da9474d8",
   "metadata": {},
   "source": [
    "The aim of this paper is to examine if the Lesk algorithm for Word Sense Disambiguation is effective. The words, which will be investigated in this research, are displayed in bold. The following examples are taken from a local file and scraped by BeautifulSoup: \n",
    "1. It was a fair __deal__ so both of us went away happy.\n",
    "\n",
    "2. You have to __water__ your animals.\n",
    "\n",
    "3. Chess openings for __black__ are the means to get at first equality and then to win.\n",
    "\n",
    "4. Let's sit down on the sandy river __bank__.\n",
    "\n",
    "5. She missed a lot of days of __school__."
   ]
  },
  {
   "cell_type": "code",
   "execution_count": 1,
   "id": "1bee2307",
   "metadata": {},
   "outputs": [],
   "source": [
    "import requests"
   ]
  },
  {
   "attachments": {},
   "cell_type": "markdown",
   "id": "39a9df96",
   "metadata": {},
   "source": [
    "The first step is to scrape the text and find all the paragraphs using BeautifulSoup."
   ]
  },
  {
   "cell_type": "code",
   "execution_count": 2,
   "id": "0cab079b",
   "metadata": {},
   "outputs": [],
   "source": [
    "from bs4 import BeautifulSoup\n",
    "soup = BeautifulSoup(open(\"C:/Users/nadii/OneDrive/Desktop/plik.html\", encoding=\"utf8\"), \"html.parser\")\n",
    "paras = soup.find_all('p')"
   ]
  },
  {
   "attachments": {},
   "cell_type": "markdown",
   "id": "ee9b4875",
   "metadata": {},
   "source": [
    "Once the paragraphs have been extracted, the empty or whitespace-only texts are removed. The remaining content of the file is stored in the only_text list. "
   ]
  },
  {
   "cell_type": "code",
   "execution_count": 3,
   "id": "09269f18",
   "metadata": {},
   "outputs": [
    {
     "name": "stdout",
     "output_type": "stream",
     "text": [
      "[' 1. It was a fair deal so both of us went away happy. ', ' 2. You have to water your animals. ', ' 3. Chess openings for black are the means to get at first equality and then to win. ', \" 4. Let's sit down on the sandy river bank. \", ' 5. She missed a lot of days of school. ']\n"
     ]
    }
   ],
   "source": [
    "only_text = []\n",
    "for el in paras:\n",
    "    if len(el.getText().strip()) > 0:\n",
    "        only_text.append(el.getText())\n",
    "print(only_text)"
   ]
  },
  {
   "attachments": {},
   "cell_type": "markdown",
   "id": "000d5cf1",
   "metadata": {},
   "source": [
    "Subsequently, the Natural Language Toolkit (NLTK) library is used to perform tokenization and part-of-speech (POS) tagging on the sentences stored in the list of tuples. Each tuple contains a word and its corresponding POS tag."
   ]
  },
  {
   "cell_type": "code",
   "execution_count": 4,
   "id": "b15b437c",
   "metadata": {},
   "outputs": [
    {
     "name": "stdout",
     "output_type": "stream",
     "text": [
      "[('1', 'CD'), ('.', '.'), ('It', 'PRP'), ('was', 'VBD'), ('a', 'DT'), ('fair', 'JJ'), ('deal', 'NN'), ('so', 'IN'), ('both', 'DT'), ('of', 'IN'), ('us', 'PRP'), ('went', 'VBD'), ('away', 'RB'), ('happy', 'JJ'), ('.', '.'), ('2', 'CD'), ('.', '.'), ('You', 'PRP'), ('have', 'VBP'), ('to', 'TO'), ('water', 'NN'), ('your', 'PRP$'), ('animals', 'NNS'), ('.', '.'), ('3', 'LS'), ('.', '.'), ('Chess', 'NNP'), ('openings', 'NNS'), ('for', 'IN'), ('black', 'JJ'), ('are', 'VBP'), ('the', 'DT'), ('means', 'NNS'), ('to', 'TO'), ('get', 'VB'), ('at', 'IN'), ('first', 'JJ'), ('equality', 'NN'), ('and', 'CC'), ('then', 'RB'), ('to', 'TO'), ('win', 'VB'), ('.', '.'), ('4', 'CD'), ('.', '.'), ('Let', 'VB'), (\"'s\", 'POS'), ('sit', 'VB'), ('down', 'RP'), ('on', 'IN'), ('the', 'DT'), ('sandy', 'JJ'), ('river', 'NN'), ('bank', 'NN'), ('.', '.'), ('5', 'CD'), ('.', '.'), ('She', 'PRP'), ('missed', 'VBD'), ('a', 'DT'), ('lot', 'NN'), ('of', 'IN'), ('days', 'NNS'), ('of', 'IN'), ('school', 'NN'), ('.', '.')]\n"
     ]
    }
   ],
   "source": [
    "import nltk \n",
    "\n",
    "tuples = []\n",
    "for sentence in only_text:\n",
    "    tokenized = nltk.word_tokenize(sentence)\n",
    "    tagged = nltk.pos_tag(tokenized)\n",
    "    for item in tagged:\n",
    "        tuples.append(item)\n",
    "print(tuples)"
   ]
  },
  {
   "attachments": {},
   "cell_type": "markdown",
   "id": "f2ca5515",
   "metadata": {},
   "source": [
    "In this code snippet, the Lesk function from the Word Sense Disambiguation (WSD) module of the NLTK library is imported. WSD aims to determine the intended meaning of a word in context. Additionally, Lesk is supported by WordNet, which is a huge lexical resource that associates words with their semantic relationships and senses. In WordNet, sets of synonymous words are represented by \"synsets\", which form the nodes of a semantic network. Below, the Lesk function is used to disambiguate the meaning of the target word in the given context by providing the most appropriate synset (sense) from WordNet.\n",
    "\n",
    "The first analysed word is *deal*. "
   ]
  },
  {
   "cell_type": "code",
   "execution_count": 20,
   "id": "21772dae",
   "metadata": {},
   "outputs": [
    {
     "name": "stdout",
     "output_type": "stream",
     "text": [
      "Synset('softwood.n.01')\n"
     ]
    }
   ],
   "source": [
    "from nltk.wsd import lesk\n",
    "sent=tuples \n",
    "#I've tried to write examples like this: sent=['It' 'was' 'a' 'fair' 'deal'...] to check if it changes the outcome, but it doesn't\n",
    "print(lesk(sent, 'deal', 'n'))"
   ]
  },
  {
   "attachments": {},
   "cell_type": "markdown",
   "id": "009366d2",
   "metadata": {},
   "source": [
    "According to the Lesk function, the sense of the word *deal* in the first sentence is synonymous with the *softwood* synset: \"wood that is easy to saw\"<a name=\"cite_ref-1\"></a>[<sup>[1]</sup>](#cite_note-1). However, the correct answer would be the first synset *deal* with the following meaning: \"a particular instance of buying or selling\". Hence, the Lesk function did not manage to determine the word sense correctly.\n",
    "\n",
    "<a name=\"cite_note-1\"></a>1. [^](#cite_ref-1) All the definitions of *deal* synsets are given below.\n"
   ]
  },
  {
   "cell_type": "code",
   "execution_count": 21,
   "id": "8587eded",
   "metadata": {},
   "outputs": [
    {
     "name": "stdout",
     "output_type": "stream",
     "text": [
      "Synset('deal.n.01') a particular instance of buying or selling\n",
      "Synset('bargain.n.01') an agreement between parties (usually arrived at after discussion) fixing obligations of each\n",
      "Synset('batch.n.02') (often followed by `of') a large number or amount or extent\n",
      "Synset('deal.n.04') a plank of softwood (fir or pine board)\n",
      "Synset('softwood.n.01') wood that is easy to saw (from conifers such as pine or fir)\n",
      "Synset('hand.n.06') the cards held in a card game by a given player at any given time\n",
      "Synset('deal.n.07') the type of treatment received (especially as the result of an agreement)\n",
      "Synset('deal.n.08') the act of distributing playing cards\n",
      "Synset('deal.n.09') the act of apportioning or distributing something\n",
      "Synset('cover.v.05') act on verbally or in some form of artistic expression\n",
      "Synset('consider.v.03') take into consideration for exemplifying purposes\n",
      "Synset('deal.v.03') take action with respect to (someone or something)\n",
      "Synset('cope.v.01') come to terms with\n",
      "Synset('distribute.v.01') administer or bestow, as in small portions\n",
      "Synset('deal.v.06') do business; offer for sale as for one's livelihood\n",
      "Synset('manage.v.02') be in charge of, act on, or dispose of\n",
      "Synset('deal.v.08') behave in a certain way towards others\n",
      "Synset('deal.v.09') distribute cards to the players in a game\n",
      "Synset('conduct.v.01') direct the course of; manage or control\n",
      "Synset('share.v.04') give out as one's portion or share\n",
      "Synset('deal.v.12') give (a specific card) to a player\n",
      "Synset('deal.v.13') sell\n"
     ]
    }
   ],
   "source": [
    "from nltk.corpus import wordnet as wn\n",
    "for ss in wn.synsets('deal'):\n",
    "    print(ss, ss.definition())"
   ]
  },
  {
   "attachments": {},
   "cell_type": "markdown",
   "id": "6b2d02cc",
   "metadata": {},
   "source": [
    "Another word examined in this paper is the verb *to water*. Interestingly, it was classified mistakenly as a noun by the POS tagger. "
   ]
  },
  {
   "cell_type": "code",
   "execution_count": 22,
   "id": "75b972f6",
   "metadata": {},
   "outputs": [
    {
     "name": "stdout",
     "output_type": "stream",
     "text": [
      "Synset('water.v.04')\n"
     ]
    }
   ],
   "source": [
    "sent=tuples \n",
    "print(lesk(sent, 'water', 'v'))"
   ]
  },
  {
   "attachments": {},
   "cell_type": "markdown",
   "id": "2b7dfa2d",
   "metadata": {},
   "source": [
    "The Synset('water.v.04') indicates that the algorithm has selected the sense of *water* as a verb with the meaning \"fill with tears\". Nevertheless, in the sentence: \"You have to water your animals.\", the verb refers to the action of providing someone with water. Hence, this sense corresponds to the second synset, i.e., 'water.v.02'. "
   ]
  },
  {
   "cell_type": "code",
   "execution_count": 23,
   "id": "f1e43c11",
   "metadata": {},
   "outputs": [
    {
     "name": "stdout",
     "output_type": "stream",
     "text": [
      "Synset('water.n.01') binary compound that occurs at room temperature as a clear colorless odorless tasteless liquid; freezes into ice below 0 degrees centigrade and boils above 100 degrees centigrade; widely used as a solvent\n",
      "Synset('body_of_water.n.01') the part of the earth's surface covered with water (such as a river or lake or ocean)\n",
      "Synset('water.n.03') once thought to be one of four elements composing the universe (Empedocles)\n",
      "Synset('water_system.n.02') a facility that provides a source of water\n",
      "Synset('urine.n.01') liquid excretory product\n",
      "Synset('water.n.06') a liquid necessary for the life of most animals and plants\n",
      "Synset('water.v.01') supply with water, as with channels or ditches or streams\n",
      "Synset('water.v.02') provide with water\n",
      "Synset('water.v.03') secrete or form water, as tears or saliva\n",
      "Synset('water.v.04') fill with tears\n"
     ]
    }
   ],
   "source": [
    "for ss in wn.synsets('water'):\n",
    "    print(ss, ss.definition())"
   ]
  },
  {
   "attachments": {},
   "cell_type": "markdown",
   "id": "b2aee7c2",
   "metadata": {},
   "source": [
    "The consecutive word examined in this paper is *black*. The exemplary sentence was taken from the website about [chess openings strategies](https://chess-teacher.com/chess-openings-for-black/). Although in this context *black* is a noun, it was tagged as an adjective by the POS tagger. "
   ]
  },
  {
   "cell_type": "code",
   "execution_count": 24,
   "id": "db30be82",
   "metadata": {},
   "outputs": [
    {
     "name": "stdout",
     "output_type": "stream",
     "text": [
      "Synset('total_darkness.n.01')\n"
     ]
    }
   ],
   "source": [
    "sent=tuples\n",
    "print(lesk(sent, 'black', 'n'))"
   ]
  },
  {
   "attachments": {},
   "cell_type": "markdown",
   "id": "13fadbfe",
   "metadata": {},
   "source": [
    "Unfortunately, the synset provided by the Lesk algorithm is again incorrect. The sense of the noun *black* proposed by the Lesk function is \"total absence of light\". The word *black* in the sentence is used with reference to chess. That is why it would match only to the sixth synset, namely 'black.n.06', which refers specifically to board games. "
   ]
  },
  {
   "cell_type": "code",
   "execution_count": 25,
   "id": "d9650861",
   "metadata": {},
   "outputs": [
    {
     "name": "stdout",
     "output_type": "stream",
     "text": [
      "Synset('black.n.01') the quality or state of the achromatic color of least lightness (bearing the least resemblance to white)\n",
      "Synset('total_darkness.n.01') total absence of light\n",
      "Synset('black.n.03') British chemist who identified carbon dioxide and who formulated the concepts of specific heat and latent heat (1728-1799)\n",
      "Synset('black.n.04') popular child actress of the 1930's (born in 1928)\n",
      "Synset('black.n.05') a person with dark skin who comes from Africa (or whose ancestors came from Africa)\n",
      "Synset('black.n.06') (board games) the darker pieces\n",
      "Synset('black.n.07') black clothing (worn as a sign of mourning)\n",
      "Synset('blacken.v.01') make or become black\n",
      "Synset('black.a.01') being of the achromatic color of maximum darkness; having little or no hue owing to absorption of almost all incident light\n",
      "Synset('black.a.02') of or belonging to a racial group having dark skin especially of sub-Saharan African origin; - Martin Luther King Jr.\n",
      "Synset('black.s.03') marked by anger or resentment or hostility\n",
      "Synset('black.s.04') offering little or no hope; ; ; - J.M.Synge\n",
      "Synset('black.s.05') stemming from evil characteristics or forces; wicked or dishonorable; ; ; ; ; ; ; -Thomas Hardy\n",
      "Synset('black.s.06') (of events) having extremely unfortunate or dire consequences; bringing ruin; ; ; ; - Charles Darwin; - Douglas MacArthur\n",
      "Synset('black.s.07') (of the face) made black especially as with suffused blood\n",
      "Synset('black.s.08') extremely dark\n",
      "Synset('black.s.09') harshly ironic or sinister\n",
      "Synset('black.s.10') (of intelligence operations) deliberately misleading\n",
      "Synset('bootleg.s.01') distributed or sold illicitly\n",
      "Synset('black.s.12') (used of conduct or character) deserving or bringing disgrace or shame; - Rachel Carson\n",
      "Synset('black.s.13') (of coffee) without cream or sugar\n",
      "Synset('black.s.14') soiled with dirt or soot\n"
     ]
    }
   ],
   "source": [
    "for ss in wn.synsets('black'):\n",
    "    print(ss, ss.definition())"
   ]
  },
  {
   "attachments": {},
   "cell_type": "markdown",
   "id": "502d21e0",
   "metadata": {},
   "source": [
    "*Bank* is the next noun investigated in this paper. "
   ]
  },
  {
   "cell_type": "code",
   "execution_count": 26,
   "id": "d094c348",
   "metadata": {},
   "outputs": [
    {
     "name": "stdout",
     "output_type": "stream",
     "text": [
      "Synset('savings_bank.n.02')\n"
     ]
    }
   ],
   "source": [
    "sent=tuples\n",
    "print(lesk(sent, 'bank', 'n'))"
   ]
  },
  {
   "attachments": {},
   "cell_type": "markdown",
   "id": "e934372e",
   "metadata": {},
   "source": [
    "The outcome suggests that the algorithm has made an incorrect match yet again. According to the Lesk function, the second synset - 'savings_bank.n.02' - corresponds to the sense of the noun in the exemplary sentence. Nevertheless, the correct choice would be the first synset with the following meaning \"sloping land (especially the slope beside a body of water)\". It should have been easily recognised by the algorithm because of the context of the sentence (*bank* is preceded by such words as \"sandy\" and \"river\")."
   ]
  },
  {
   "cell_type": "code",
   "execution_count": 31,
   "id": "1290724e",
   "metadata": {},
   "outputs": [
    {
     "name": "stdout",
     "output_type": "stream",
     "text": [
      "Synset('bank.n.01') sloping land (especially the slope beside a body of water)\n",
      "Synset('depository_financial_institution.n.01') a financial institution that accepts deposits and channels the money into lending activities\n",
      "Synset('bank.n.03') a long ridge or pile\n",
      "Synset('bank.n.04') an arrangement of similar objects in a row or in tiers\n",
      "Synset('bank.n.05') a supply or stock held in reserve for future use (especially in emergencies)\n",
      "Synset('bank.n.06') the funds held by a gambling house or the dealer in some gambling games\n",
      "Synset('bank.n.07') a slope in the turn of a road or track; the outside is higher than the inside in order to reduce the effects of centrifugal force\n",
      "Synset('savings_bank.n.02') a container (usually with a slot in the top) for keeping money at home\n",
      "Synset('bank.n.09') a building in which the business of banking transacted\n",
      "Synset('bank.n.10') a flight maneuver; aircraft tips laterally about its longitudinal axis (especially in turning)\n",
      "Synset('bank.v.01') tip laterally\n",
      "Synset('bank.v.02') enclose with a bank\n",
      "Synset('bank.v.03') do business with a bank or keep an account at a bank\n",
      "Synset('bank.v.04') act as the banker in a game or in gambling\n",
      "Synset('bank.v.05') be in the banking business\n",
      "Synset('deposit.v.02') put into a bank account\n",
      "Synset('bank.v.07') cover with ashes so to control the rate of burning\n",
      "Synset('trust.v.01') have confidence or faith in\n"
     ]
    }
   ],
   "source": [
    "for ss in wn.synsets('bank'):\n",
    "    print(ss, ss.definition())"
   ]
  },
  {
   "attachments": {},
   "cell_type": "markdown",
   "id": "0eb2f4d1",
   "metadata": {},
   "source": [
    "Finally, the last word analysed in this paper is *school*. The sentence: \"She missed a lot of days of school\" was taken from WordNet and modified slightely<a name=\"cite_ref-2\"></a>[<sup>[2]</sup>](#cite_note-2). \n",
    "\n",
    "<a name=\"cite_note-2\"></a>2. [^](#cite_ref-2) The sentence provided by WordNet: \"he didn't miss a single day of school\"."
   ]
  },
  {
   "cell_type": "code",
   "execution_count": 32,
   "id": "efd7df34",
   "metadata": {},
   "outputs": [
    {
     "name": "stdout",
     "output_type": "stream",
     "text": [
      "Synset('school.n.07')\n"
     ]
    }
   ],
   "source": [
    "sent=tuples\n",
    "print(lesk(sent, 'school', 'n'))"
   ]
  },
  {
   "attachments": {},
   "cell_type": "markdown",
   "id": "be51a3ed",
   "metadata": {},
   "source": [
    "Even though the sentence was very similar to the one displayed on WordNet, it is interpreted incorrectly by the Lesk function. The proposed synset refers to \"a large group of fish\", whereas in the provided sentence, the word means simply \"the period of instruction in school\". The correct sense corresponds to the fifth synset. "
   ]
  },
  {
   "cell_type": "code",
   "execution_count": 33,
   "id": "212823b9",
   "metadata": {},
   "outputs": [
    {
     "name": "stdout",
     "output_type": "stream",
     "text": [
      "Synset('school.n.01') an educational institution\n",
      "Synset('school.n.02') a building where young people receive education\n",
      "Synset('school.n.03') the process of being formally educated at a school\n",
      "Synset('school.n.04') a body of creative artists or writers or thinkers linked by a similar style or by similar teachers\n",
      "Synset('school.n.05') the period of instruction in a school; the time period when school is in session\n",
      "Synset('school.n.06') an educational institution's faculty and students\n",
      "Synset('school.n.07') a large group of fish\n",
      "Synset('school.v.01') educate in or as if in a school\n",
      "Synset('educate.v.03') teach or refine to be discriminative in taste or judgment\n",
      "Synset('school.v.03') swim in or form a large group of fish\n"
     ]
    }
   ],
   "source": [
    "for ss in wn.synsets('school'):\n",
    "    print(ss, ss.definition())"
   ]
  },
  {
   "attachments": {},
   "cell_type": "markdown",
   "id": "1447f729",
   "metadata": {},
   "source": [
    "Surprisingly, the Lesk function did not manage to provide the correct synset for any of the given words. It seems that the algorithm has issues even with the most basic examples.  \n",
    "\n",
    "The results are shown on the pie chart and in the table. "
   ]
  },
  {
   "cell_type": "code",
   "execution_count": 34,
   "id": "763408b9",
   "metadata": {
    "scrolled": true
   },
   "outputs": [
    {
     "data": {
      "image/png": "[encoded data removed]",
      "text/plain": [
       "<Figure size 640x480 with 1 Axes>"
      ]
     },
     "metadata": {},
     "output_type": "display_data"
    }
   ],
   "source": [
    "import matplotlib.pyplot as plt\n",
    "import numpy as np\n",
    "\n",
    "y = np.array([0, 5])\n",
    "mylabels = [\"Correct\", \"Incorrect\"]\n",
    "mycolors = [\"blue\", \"red\"]\n",
    "\n",
    "plt.pie(y, labels = mylabels, colors=mycolors)\n",
    "plt.legend(title = \"Word Sense Disambiguation:\")\n",
    "plt.show() "
   ]
  },
  {
   "attachments": {},
   "cell_type": "markdown",
   "id": "9d2adb34",
   "metadata": {},
   "source": [
    "| Id |  Word  | Correct WSD? |\n",
    "|:--:|:------:|:------------:|\n",
    "| 1. |  deal  |      no      |\n",
    "| 2. |  water |      no      |\n",
    "| 3. |  black |      no      |\n",
    "| 4. |  bank  |      no     |\n",
    "| 5. | school |      no      |\n",
    "|    | Total  |      0%     |"
   ]
  },
  {
   "attachments": {},
   "cell_type": "markdown",
   "id": "ff6c92ae",
   "metadata": {},
   "source": [
    "To sum up, the Lesk function proved to be ineffective in Word Sense Disambiguation. In the paper, I have examined four nouns and one verb. The Lesk algorithm failed to determine the word sense in all of these cases. Moreover, some words, namely *black* and *water*, were classified mistakenly by the POS tagger. "
   ]
  }
 ],
 "metadata": {
  "kernelspec": {
   "display_name": "Python 3 (ipykernel)",
   "language": "python",
   "name": "python3"
  },
  "language_info": {
   "codemirror_mode": {
    "name": "ipython",
    "version": 3
   },
   "file_extension": ".py",
   "mimetype": "text/x-python",
   "name": "python",
   "nbconvert_exporter": "python",
   "pygments_lexer": "ipython3",
   "version": "3.9.13"
  }
 },
 "nbformat": 4,
 "nbformat_minor": 5
}
